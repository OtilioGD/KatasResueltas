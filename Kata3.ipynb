{
 "cells": [
  {
   "cell_type": "markdown",
   "metadata": {},
   "source": [
    "#### Añadir el código necesario para crear una variable que guarde la velocidad del asteroide.\n",
    "#### Escribe una expresión de prueba para calcular si necesita una advertencia.\n",
    "#### Agregue las instrucciones que se ejecutarán si la expresión de prueba es true o false."
   ]
  },
  {
   "cell_type": "code",
   "execution_count": 3,
   "metadata": {},
   "outputs": [
    {
     "name": "stdout",
     "output_type": "stream",
     "text": [
      "Advertencia! Se acerca un Asteroide a gran velocidad.\n"
     ]
    }
   ],
   "source": [
    "velAsteroid = 49\n",
    "if velAsteroid > 25:\n",
    "    print(\"Advertencia! Se acerca un Asteroide a gran velocidad.\")\n",
    "else:\n",
    "    print(\"Nada de que preocuparse\")"
   ]
  },
  {
   "cell_type": "markdown",
   "metadata": {},
   "source": [
    "#### Agrega el código para crear una variable para un asteroide que viaja a 19 km/s\n",
    "#### Escribe varias expresiones de prueba para determinar si puedes ver el rayo de luz desde la tierra\n",
    "#### Agrega las instrucciones que se ejecutarán si las expresiones de prueba son True o False"
   ]
  },
  {
   "cell_type": "code",
   "execution_count": 6,
   "metadata": {},
   "outputs": [
    {
     "name": "stdout",
     "output_type": "stream",
     "text": [
      "Cielo despejado\n"
     ]
    }
   ],
   "source": [
    "velAsteroid = 19\n",
    "\n",
    "if velAsteroid > 20:\n",
    "    print(\"Podría verse un rayo de luz en el cielo\")\n",
    "elif velAsteroid == 20:\n",
    "    print(\"Mira arriba, hay una luz de Asteoide\")\n",
    "else:\n",
    "    print(\"Cielo despejado\")"
   ]
  },
  {
   "cell_type": "markdown",
   "metadata": {},
   "source": [
    "#### Agrega el código para crear nuevas variables para la velocidad y el tamaño del asteroide\n",
    "#### Para probar el código, prueba con varias velocidades y tamaños\n",
    "#### Escribe varias expresiones de prueba o combinaciones de expresiones de prueba para determinar qué mensaje se debe enviar a Tierra."
   ]
  },
  {
   "cell_type": "code",
   "execution_count": 13,
   "metadata": {},
   "outputs": [
    {
     "name": "stdout",
     "output_type": "stream",
     "text": [
      "Advertencia!! Se acerca una roca espacial a la Tierra\n",
      "Vamos a morir!!\n"
     ]
    }
   ],
   "source": [
    "velAsteroid = 25\n",
    "sizeAsteroid = 25\n",
    "\n",
    "if velAsteroid >= 25:\n",
    "    print(\"Advertencia!! Se acerca una roca espacial a la Tierra\")\n",
    "\n",
    "if velAsteroid >=20 and sizeAsteroid >=25:\n",
    "    print(\"Vamos a morir!!\")\n",
    "elif velAsteroid >= 20 and sizeAsteroid < 25:\n",
    "    print(\"Mira arriba, se puede ver un Asteroide quemandose.\")\n",
    "else:\n",
    "    print(\"Cielo despejado.\")\n"
   ]
  }
 ],
 "metadata": {
  "interpreter": {
   "hash": "3bb03df91ec1981933db38e9cd509750fbcc8736096f2f96108c21544a6fd7c7"
  },
  "kernelspec": {
   "display_name": "Python 3.10.2 64-bit",
   "language": "python",
   "name": "python3"
  },
  "language_info": {
   "codemirror_mode": {
    "name": "ipython",
    "version": 3
   },
   "file_extension": ".py",
   "mimetype": "text/x-python",
   "name": "python",
   "nbconvert_exporter": "python",
   "pygments_lexer": "ipython3",
   "version": "3.10.2"
  },
  "orig_nbformat": 4
 },
 "nbformat": 4,
 "nbformat_minor": 2
}
