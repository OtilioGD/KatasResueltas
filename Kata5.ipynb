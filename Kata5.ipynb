{
 "cells": [
  {
   "cell_type": "markdown",
   "metadata": {},
   "source": [
    "# Ejercicio1 - Utilizar operadores aritméticos"
   ]
  },
  {
   "cell_type": "markdown",
   "metadata": {},
   "source": [
    "## Operadores aritméticos en Python"
   ]
  },
  {
   "cell_type": "markdown",
   "metadata": {},
   "source": [
    "##### Exploremos cómo podemos crear un programa que pueda calcular la distancia entre dos planetas. Comenzaremos usando dos distancias de planetas: Tierra (149.597.870 km) y Júpiter (778.547.200 km).\n",
    "###### Crear variables para almacenar las dos distancias\n",
    "###### ¡Asegúrate de quitar las comas!"
   ]
  },
  {
   "cell_type": "code",
   "execution_count": 9,
   "metadata": {},
   "outputs": [
    {
     "name": "stdout",
     "output_type": "stream",
     "text": [
      "628949330  km\n",
      "390577534  Millas\n"
     ]
    }
   ],
   "source": [
    "distTierra = 149597870\n",
    "distJupiter = 778547200\n",
    "\n",
    "# Distacia de la Tierra a Jupiter\n",
    "diferencia = distJupiter - distTierra\n",
    "print(diferencia, \" km\")\n",
    "millas = diferencia * 0.621\n",
    "print(round(abs(millas)), \" Millas\")"
   ]
  },
  {
   "cell_type": "markdown",
   "metadata": {},
   "source": [
    "# Ejercicio 2: convierte cadenas en números y usa valores absolutos"
   ]
  },
  {
   "cell_type": "markdown",
   "metadata": {},
   "source": [
    "### Crear una aplicación para trabajar con números y entrada de usuario"
   ]
  },
  {
   "cell_type": "code",
   "execution_count": 12,
   "metadata": {},
   "outputs": [
    {
     "name": "stdout",
     "output_type": "stream",
     "text": [
      "Diferencia en KM 2814600000\n",
      "1747866600.0 Millas\n"
     ]
    }
   ],
   "source": [
    "dist1 = int(input(\"Distancia del Sol con respecto al primer planeta en KM:\"))\n",
    "dist2 = int(input(\"Distancia del Sol con respecto al segundo planeta en KM:\"))\n",
    "\n",
    "diferencia = dist1 - dist2\n",
    "print(\"Diferencia en KM\", abs(diferencia))\n",
    "\n",
    "# Distancia en Millas\n",
    "Milla = diferencia * 0.621\n",
    "print(abs(Milla), \"Millas\")\n",
    "\n"
   ]
  }
 ],
 "metadata": {
  "interpreter": {
   "hash": "3bb03df91ec1981933db38e9cd509750fbcc8736096f2f96108c21544a6fd7c7"
  },
  "kernelspec": {
   "display_name": "Python 3.10.2 64-bit",
   "language": "python",
   "name": "python3"
  },
  "language_info": {
   "codemirror_mode": {
    "name": "ipython",
    "version": 3
   },
   "file_extension": ".py",
   "mimetype": "text/x-python",
   "name": "python",
   "nbconvert_exporter": "python",
   "pygments_lexer": "ipython3",
   "version": "3.10.2"
  },
  "orig_nbformat": 4
 },
 "nbformat": 4,
 "nbformat_minor": 2
}
